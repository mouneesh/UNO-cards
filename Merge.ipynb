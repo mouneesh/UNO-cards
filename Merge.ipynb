{
 "cells": [
  {
   "cell_type": "code",
   "execution_count": null,
   "id": "8dc4148f",
   "metadata": {},
   "outputs": [],
   "source": [
    "import numpy as np\n",
    "import cv2\n",
    "import matplotlib.pyplot as plt\n",
    "%matplotlib inline"
   ]
  },
  {
   "cell_type": "code",
   "execution_count": null,
   "id": "4a3de447",
   "metadata": {},
   "outputs": [],
   "source": [
    "vc = cv2.VideoCapture(0) \n",
    "print(vc.isOpened())\n",
    "i = 0\n",
    "while vc.isOpened():\n",
    "    rval, frame = vc.read()    # read video frames again at each loop, as long as the stream is open\n",
    "    cv2.imwrite(f'C:/cards/BLUE_{i}.png',frame)\n",
    "    i+=1\n",
    "    cv2.imshow(\"stream\", frame)# display each frame as an image, \"stream\" is the name of the window\n",
    "    key = cv2.waitKey(1)       # allows user intervention without stopping the stream (pause in ms)\n",
    "    if key == 27:              # exit on ESC\n",
    "        break\n",
    "cv2.destroyWindow(\"stream\")    # close image window upon exit\n",
    "vc.release()"
   ]
  },
  {
   "cell_type": "code",
   "execution_count": null,
   "id": "57b5a0df",
   "metadata": {},
   "outputs": [],
   "source": [
    "import os\n",
    "import shutil"
   ]
  },
  {
   "cell_type": "code",
   "execution_count": null,
   "id": "43967da6",
   "metadata": {},
   "outputs": [],
   "source": [
    "source_dirs = ['D:/UNO_CARD/BLUE_9', 'D:/UNO_CARD/GREEN_9', 'D:/UNO_CARD/RED_9','D:/UNO_CARD/YELLOW_9']\n",
    "target_dir = 'D:/UNO_CARD/9'"
   ]
  },
  {
   "cell_type": "code",
   "execution_count": null,
   "id": "f641e8d5",
   "metadata": {},
   "outputs": [],
   "source": [
    "if not os.path.exists(target_dir):\n",
    "    os.makedirs(target_dir)\n",
    "file_counter = 0"
   ]
  },
  {
   "cell_type": "code",
   "execution_count": null,
   "id": "ecf448ae",
   "metadata": {},
   "outputs": [],
   "source": [
    "for directory in source_dirs:\n",
    "    # List all files in the directory and sort them to maintain order\n",
    "    files = sorted(os.listdir(directory))\n",
    "\n",
    "    # Rename and move each file\n",
    "    for filename in files:\n",
    "        # Set up the new filename based on the counter\n",
    "        _, file_extension = os.path.splitext(filename)\n",
    "        new_filename = f\"{file_counter}{file_extension}\"\n",
    "        \n",
    "        # Build the full source and target paths\n",
    "        source_file = os.path.join(directory, filename)\n",
    "        target_file = os.path.join(target_dir, new_filename)\n",
    "        \n",
    "        # Move and rename the file\n",
    "        shutil.move(source_file, target_file)\n",
    "        \n",
    "        # Increment the counter for the next file\n",
    "        file_counter += 1\n",
    "\n",
    "print(f\"Files have been successfully renamed and moved. Last file number: {file_counter-1}\")"
   ]
  },
  {
   "cell_type": "code",
   "execution_count": null,
   "id": "81961a4a",
   "metadata": {},
   "outputs": [],
   "source": []
  },
  {
   "cell_type": "code",
   "execution_count": null,
   "id": "2a336148",
   "metadata": {},
   "outputs": [],
   "source": []
  },
  {
   "cell_type": "code",
   "execution_count": null,
   "id": "0b73401e",
   "metadata": {},
   "outputs": [],
   "source": []
  }
 ],
 "metadata": {
  "kernelspec": {
   "display_name": "Python 3 (ipykernel)",
   "language": "python",
   "name": "python3"
  },
  "language_info": {
   "codemirror_mode": {
    "name": "ipython",
    "version": 3
   },
   "file_extension": ".py",
   "mimetype": "text/x-python",
   "name": "python",
   "nbconvert_exporter": "python",
   "pygments_lexer": "ipython3",
   "version": "3.11.7"
  }
 },
 "nbformat": 4,
 "nbformat_minor": 5
}
